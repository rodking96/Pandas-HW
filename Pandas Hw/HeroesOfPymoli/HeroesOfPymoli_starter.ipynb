{
 "cells": [
  {
   "cell_type": "code",
   "execution_count": 1,
   "metadata": {},
   "outputs": [],
   "source": [
    "import pandas as pd\n",
    "import os"
   ]
  },
  {
   "cell_type": "code",
   "execution_count": 2,
   "metadata": {},
   "outputs": [
    {
     "data": {
      "text/plain": [
       "'Resources/purchase_data.csv'"
      ]
     },
     "execution_count": 2,
     "metadata": {},
     "output_type": "execute_result"
    }
   ],
   "source": [
    "file_path = os.path.join(\"Resources/purchase_data.csv\")\n",
    "file_path"
   ]
  },
  {
   "cell_type": "code",
   "execution_count": 3,
   "metadata": {},
   "outputs": [
    {
     "data": {
      "text/html": [
       "<div>\n",
       "<style scoped>\n",
       "    .dataframe tbody tr th:only-of-type {\n",
       "        vertical-align: middle;\n",
       "    }\n",
       "\n",
       "    .dataframe tbody tr th {\n",
       "        vertical-align: top;\n",
       "    }\n",
       "\n",
       "    .dataframe thead th {\n",
       "        text-align: right;\n",
       "    }\n",
       "</style>\n",
       "<table border=\"1\" class=\"dataframe\">\n",
       "  <thead>\n",
       "    <tr style=\"text-align: right;\">\n",
       "      <th></th>\n",
       "      <th>Purchase ID</th>\n",
       "      <th>SN</th>\n",
       "      <th>Age</th>\n",
       "      <th>Gender</th>\n",
       "      <th>Item ID</th>\n",
       "      <th>Item Name</th>\n",
       "      <th>Price</th>\n",
       "    </tr>\n",
       "  </thead>\n",
       "  <tbody>\n",
       "    <tr>\n",
       "      <th>0</th>\n",
       "      <td>0</td>\n",
       "      <td>Lisim78</td>\n",
       "      <td>20</td>\n",
       "      <td>Male</td>\n",
       "      <td>108</td>\n",
       "      <td>Extraction, Quickblade Of Trembling Hands</td>\n",
       "      <td>3.53</td>\n",
       "    </tr>\n",
       "    <tr>\n",
       "      <th>1</th>\n",
       "      <td>1</td>\n",
       "      <td>Lisovynya38</td>\n",
       "      <td>40</td>\n",
       "      <td>Male</td>\n",
       "      <td>143</td>\n",
       "      <td>Frenzied Scimitar</td>\n",
       "      <td>1.56</td>\n",
       "    </tr>\n",
       "    <tr>\n",
       "      <th>2</th>\n",
       "      <td>2</td>\n",
       "      <td>Ithergue48</td>\n",
       "      <td>24</td>\n",
       "      <td>Male</td>\n",
       "      <td>92</td>\n",
       "      <td>Final Critic</td>\n",
       "      <td>4.88</td>\n",
       "    </tr>\n",
       "    <tr>\n",
       "      <th>3</th>\n",
       "      <td>3</td>\n",
       "      <td>Chamassasya86</td>\n",
       "      <td>24</td>\n",
       "      <td>Male</td>\n",
       "      <td>100</td>\n",
       "      <td>Blindscythe</td>\n",
       "      <td>3.27</td>\n",
       "    </tr>\n",
       "    <tr>\n",
       "      <th>4</th>\n",
       "      <td>4</td>\n",
       "      <td>Iskosia90</td>\n",
       "      <td>23</td>\n",
       "      <td>Male</td>\n",
       "      <td>131</td>\n",
       "      <td>Fury</td>\n",
       "      <td>1.44</td>\n",
       "    </tr>\n",
       "  </tbody>\n",
       "</table>\n",
       "</div>"
      ],
      "text/plain": [
       "   Purchase ID             SN  Age Gender  Item ID  \\\n",
       "0            0        Lisim78   20   Male      108   \n",
       "1            1    Lisovynya38   40   Male      143   \n",
       "2            2     Ithergue48   24   Male       92   \n",
       "3            3  Chamassasya86   24   Male      100   \n",
       "4            4      Iskosia90   23   Male      131   \n",
       "\n",
       "                                   Item Name  Price  \n",
       "0  Extraction, Quickblade Of Trembling Hands   3.53  \n",
       "1                          Frenzied Scimitar   1.56  \n",
       "2                               Final Critic   4.88  \n",
       "3                                Blindscythe   3.27  \n",
       "4                                       Fury   1.44  "
      ]
     },
     "execution_count": 3,
     "metadata": {},
     "output_type": "execute_result"
    }
   ],
   "source": [
    "# Dependencies and Setup\n",
    "import pandas as pd\n",
    "import os\n",
    "# File to Load (Remember to Change These)\n",
    "data_file = \"Resources/purchase_data.csv\"\n",
    "\n",
    "# Read Purchasing File and store into Pandas data frame\n",
    "purchase_data_df = pd.read_csv(data_file)\n",
    "purchase_data_df.head()"
   ]
  },
  {
   "cell_type": "markdown",
   "metadata": {},
   "source": [
    "## Player Count"
   ]
  },
  {
   "cell_type": "markdown",
   "metadata": {},
   "source": [
    "* Display the total number of players\n"
   ]
  },
  {
   "cell_type": "code",
   "execution_count": 4,
   "metadata": {},
   "outputs": [
    {
     "data": {
      "text/plain": [
       "Purchase ID    780\n",
       "SN             780\n",
       "Age            780\n",
       "Gender         780\n",
       "Item ID        780\n",
       "Item Name      780\n",
       "Price          780\n",
       "dtype: int64"
      ]
     },
     "execution_count": 4,
     "metadata": {},
     "output_type": "execute_result"
    }
   ],
   "source": [
    "# Display the total number of players\n",
    "purchase_data_df.count()"
   ]
  },
  {
   "cell_type": "code",
   "execution_count": 5,
   "metadata": {},
   "outputs": [
    {
     "data": {
      "text/html": [
       "<div>\n",
       "<style scoped>\n",
       "    .dataframe tbody tr th:only-of-type {\n",
       "        vertical-align: middle;\n",
       "    }\n",
       "\n",
       "    .dataframe tbody tr th {\n",
       "        vertical-align: top;\n",
       "    }\n",
       "\n",
       "    .dataframe thead th {\n",
       "        text-align: right;\n",
       "    }\n",
       "</style>\n",
       "<table border=\"1\" class=\"dataframe\">\n",
       "  <thead>\n",
       "    <tr style=\"text-align: right;\">\n",
       "      <th></th>\n",
       "      <th>Total Players</th>\n",
       "    </tr>\n",
       "  </thead>\n",
       "  <tbody>\n",
       "    <tr>\n",
       "      <th>0</th>\n",
       "      <td>780</td>\n",
       "    </tr>\n",
       "  </tbody>\n",
       "</table>\n",
       "</div>"
      ],
      "text/plain": [
       "   Total Players\n",
       "0            780"
      ]
     },
     "execution_count": 5,
     "metadata": {},
     "output_type": "execute_result"
    }
   ],
   "source": [
    "players_count = purchase_data_df.count()[0]\n",
    "pd.DataFrame({'Total Players': [players_count]})"
   ]
  },
  {
   "cell_type": "markdown",
   "metadata": {},
   "source": [
    "## Purchasing Analysis (Total)"
   ]
  },
  {
   "cell_type": "markdown",
   "metadata": {},
   "source": [
    "* Run basic calculations to obtain number of unique items, average price, etc.\n",
    "\n",
    "\n",
    "* Create a summary data frame to hold the results\n",
    "\n",
    "\n",
    "* Optional: give the displayed data cleaner formatting\n",
    "\n",
    "\n",
    "* Display the summary data frame\n"
   ]
  },
  {
   "cell_type": "code",
   "execution_count": 6,
   "metadata": {},
   "outputs": [
    {
     "data": {
      "text/html": [
       "<div>\n",
       "<style scoped>\n",
       "    .dataframe tbody tr th:only-of-type {\n",
       "        vertical-align: middle;\n",
       "    }\n",
       "\n",
       "    .dataframe tbody tr th {\n",
       "        vertical-align: top;\n",
       "    }\n",
       "\n",
       "    .dataframe thead th {\n",
       "        text-align: right;\n",
       "    }\n",
       "</style>\n",
       "<table border=\"1\" class=\"dataframe\">\n",
       "  <thead>\n",
       "    <tr style=\"text-align: right;\">\n",
       "      <th></th>\n",
       "      <th>Number of Unique Items</th>\n",
       "      <th>Total Revenue</th>\n",
       "      <th>Number of Purchases</th>\n",
       "      <th>Average Price</th>\n",
       "    </tr>\n",
       "  </thead>\n",
       "  <tbody>\n",
       "    <tr>\n",
       "      <th>0</th>\n",
       "      <td>179</td>\n",
       "      <td>2379.77</td>\n",
       "      <td>780</td>\n",
       "      <td>3.050987</td>\n",
       "    </tr>\n",
       "  </tbody>\n",
       "</table>\n",
       "</div>"
      ],
      "text/plain": [
       "   Number of Unique Items  Total Revenue  Number of Purchases  Average Price\n",
       "0                     179        2379.77                  780       3.050987"
      ]
     },
     "execution_count": 6,
     "metadata": {},
     "output_type": "execute_result"
    }
   ],
   "source": [
    "#Number of Unique Items\n",
    "item_count = len(purchase_data_df[\"Item ID\"].unique())\n",
    "# Average Price\n",
    "average_price = purchase_data_df[\"Price\"].mean()\n",
    "\n",
    "#Total Number of Purchases\n",
    "purchase_count = purchase_data_df[\"Price\"].count()\n",
    "\n",
    "#Total Revenue\n",
    "total_revenue = purchase_data_df[\"Price\"].sum()\n",
    "\n",
    "#Create a summary data frame to hold the results\n",
    "summary_data= pd.DataFrame({\"Number of Unique Items\": [item_count],\n",
    "                              \"Total Revenue\": [total_revenue],\n",
    "                              \"Number of Purchases\": [purchase_count],\n",
    "                              \"Average Price\": [average_price]})\n",
    "summary_data"
   ]
  },
  {
   "cell_type": "code",
   "execution_count": 7,
   "metadata": {
    "scrolled": true
   },
   "outputs": [
    {
     "data": {
      "text/plain": [
       "Purchase ID    389.500000\n",
       "Age             22.714103\n",
       "Item ID         91.755128\n",
       "Price            3.050987\n",
       "Name: mean, dtype: float64"
      ]
     },
     "execution_count": 7,
     "metadata": {},
     "output_type": "execute_result"
    }
   ],
   "source": [
    "# Display a statistical overview of the DataFrame\n",
    "summary = purchase_data_df.describe()\n",
    "summary.loc['mean']"
   ]
  },
  {
   "cell_type": "code",
   "execution_count": 8,
   "metadata": {},
   "outputs": [],
   "source": [
    "# Display the summary data frame\n",
    "summary_df = pd.DataFrame({\n",
    "    'Purchase ID':[]\n",
    "})"
   ]
  },
  {
   "cell_type": "code",
   "execution_count": 9,
   "metadata": {},
   "outputs": [
    {
     "data": {
      "text/plain": [
       "array([108, 143,  92, 100, 131,  81, 169, 162,  21, 136,  95, 116,   4,\n",
       "       165,  98,  40, 161,  82,  89,  57, 168,  24, 151, 132, 178,  71,\n",
       "        96, 119,  37, 140, 179, 133,  44, 160,  53,  76,  73, 172,   7,\n",
       "        72,   9, 181, 102, 170, 138, 110,  22,  15,  60, 176,  25,  84,\n",
       "        80, 152, 105, 125,  56,  34,   6,  27,  29,  68, 124,  88,  20,\n",
       "        50, 174,  12,  33, 129,  17,  59,  39, 164, 134, 109,  10,  54,\n",
       "        99,  85, 139,  41, 150,  13, 117,  78,  87,   1,  62,  75,  58,\n",
       "        74, 120, 145,   0,   2, 146, 158,   8, 175,  46, 148, 111,   3,\n",
       "        65, 183,  30, 157, 123,   5, 144, 103, 135,  51, 154,  32,  77,\n",
       "        11,  63,  69, 113, 153, 114, 149, 159, 137, 142,  66,  97, 163,\n",
       "       107,  16,  42,  19,  83,  28,  94, 182,  70,  18, 166, 173, 167,\n",
       "       155, 128, 156, 147,  35, 171,  52, 106,  38,  91, 118,  67,  45,\n",
       "        49, 121,  79,  14,  43,  31,  64,  86,  93,  26, 122,  61,  48,\n",
       "       112, 126, 115,  55, 127,  47, 130,  90, 177, 104])"
      ]
     },
     "execution_count": 9,
     "metadata": {},
     "output_type": "execute_result"
    }
   ],
   "source": [
    "# The unique method \n",
    "unique = purchase_data_df['Item ID'].unique()\n",
    "unique"
   ]
  },
  {
   "cell_type": "code",
   "execution_count": 10,
   "metadata": {},
   "outputs": [
    {
     "data": {
      "text/plain": [
       "3.050987179487176"
      ]
     },
     "execution_count": 10,
     "metadata": {},
     "output_type": "execute_result"
    }
   ],
   "source": [
    "# The mean method average\n",
    "average = purchase_data_df['Price'].mean()\n",
    "average"
   ]
  },
  {
   "cell_type": "code",
   "execution_count": 11,
   "metadata": {},
   "outputs": [
    {
     "data": {
      "text/plain": [
       "0    3.53\n",
       "1    1.56\n",
       "2    4.88\n",
       "3    3.27\n",
       "4    1.44\n",
       "Name: Price, dtype: float64"
      ]
     },
     "execution_count": 11,
     "metadata": {},
     "output_type": "execute_result"
    }
   ],
   "source": [
    "# Reference a single column within DataFrame\n",
    "purchase_data_df['Price'].head()"
   ]
  },
  {
   "cell_type": "markdown",
   "metadata": {},
   "source": [
    "## Gender Demographics"
   ]
  },
  {
   "cell_type": "markdown",
   "metadata": {},
   "source": [
    "* Percentage and Count of Male Players\n",
    "\n",
    "\n",
    "* Percentage and Count of Female Players\n",
    "\n",
    "\n",
    "* Percentage and Count of Other / Non-Disclosed\n",
    "\n",
    "\n"
   ]
  },
  {
   "cell_type": "code",
   "execution_count": 12,
   "metadata": {},
   "outputs": [
    {
     "data": {
      "text/plain": [
       "Male                     652\n",
       "Female                   113\n",
       "Other / Non-Disclosed     15\n",
       "Name: Gender, dtype: int64"
      ]
     },
     "execution_count": 12,
     "metadata": {},
     "output_type": "execute_result"
    }
   ],
   "source": [
    "# The value_counts method counts uniques values in column\n",
    "gender_counts = purchase_data_df['Gender'].value_counts()\n",
    "gender_counts"
   ]
  },
  {
   "cell_type": "code",
   "execution_count": 13,
   "metadata": {},
   "outputs": [
    {
     "data": {
      "text/plain": [
       "Male                     83.6%\n",
       "Female                   14.5%\n",
       "Other / Non-Disclosed     1.9%\n",
       "Name: Gender, dtype: object"
      ]
     },
     "execution_count": 13,
     "metadata": {},
     "output_type": "execute_result"
    }
   ],
   "source": [
    "# Percentages Male, Female, and Other / Non-Disclosed\n",
    "percent100 = purchase_data_df['Gender'].value_counts(normalize=True).mul(100).round(1).astype(str) + '%'\n",
    "percent100"
   ]
  },
  {
   "cell_type": "markdown",
   "metadata": {},
   "source": [
    "\n",
    "## Purchasing Analysis (Gender)"
   ]
  },
  {
   "cell_type": "markdown",
   "metadata": {},
   "source": [
    "* Run basic calculations to obtain purchase count, avg. purchase price, avg. purchase total per person etc. by gender\n",
    "\n",
    "\n",
    "\n",
    "\n",
    "* Create a summary data frame to hold the results\n",
    "\n",
    "\n",
    "* Optional: give the displayed data cleaner formatting\n",
    "\n",
    "\n",
    "* Display the summary data frame"
   ]
  },
  {
   "cell_type": "code",
   "execution_count": 14,
   "metadata": {},
   "outputs": [
    {
     "data": {
      "text/html": [
       "<div>\n",
       "<style scoped>\n",
       "    .dataframe tbody tr th:only-of-type {\n",
       "        vertical-align: middle;\n",
       "    }\n",
       "\n",
       "    .dataframe tbody tr th {\n",
       "        vertical-align: top;\n",
       "    }\n",
       "\n",
       "    .dataframe thead th {\n",
       "        text-align: right;\n",
       "    }\n",
       "</style>\n",
       "<table border=\"1\" class=\"dataframe\">\n",
       "  <thead>\n",
       "    <tr style=\"text-align: right;\">\n",
       "      <th></th>\n",
       "      <th>Players</th>\n",
       "      <th>Total Items</th>\n",
       "      <th>Total Purchases</th>\n",
       "      <th>Avg Spent per Person</th>\n",
       "    </tr>\n",
       "  </thead>\n",
       "  <tbody>\n",
       "    <tr>\n",
       "      <th>Female</th>\n",
       "      <td>113</td>\n",
       "      <td>113</td>\n",
       "      <td>$361.94</td>\n",
       "      <td>$3.20</td>\n",
       "    </tr>\n",
       "    <tr>\n",
       "      <th>Male</th>\n",
       "      <td>652</td>\n",
       "      <td>652</td>\n",
       "      <td>$1967.64</td>\n",
       "      <td>$3.02</td>\n",
       "    </tr>\n",
       "    <tr>\n",
       "      <th>Other</th>\n",
       "      <td>15</td>\n",
       "      <td>15</td>\n",
       "      <td>$50.19</td>\n",
       "      <td>$3.35</td>\n",
       "    </tr>\n",
       "  </tbody>\n",
       "</table>\n",
       "</div>"
      ],
      "text/plain": [
       "        Players  Total Items Total Purchases Avg Spent per Person\n",
       "Female      113          113         $361.94                $3.20\n",
       "Male        652          652        $1967.64                $3.02\n",
       "Other        15           15          $50.19                $3.35"
      ]
     },
     "execution_count": 14,
     "metadata": {},
     "output_type": "execute_result"
    }
   ],
   "source": [
    "total_item_count_by_gender = purchase_data_df.groupby('Gender')['Item ID'].count()\n",
    "total_spent_by_gender = purchase_data_df.groupby('Gender')['Price'].sum()\n",
    "max_cost_by_gender = purchase_data_df.groupby('Gender')['Price'].max()\n",
    "min_cost_by_gender = purchase_data_df.groupby('Gender')['Price'].min()\n",
    "avg_cost_by_gender = purchase_data_df.groupby('Gender')['Price'].mean()\n",
    "\n",
    "avg_spent_by_female = total_spent_by_gender.Female / gender_counts.Female\n",
    "avg_spent_by_male = total_spent_by_gender.Male / gender_counts.Male\n",
    "avg_spent_by_other = total_spent_by_gender[\"Other / Non-Disclosed\"] / gender_counts[\"Other / Non-Disclosed\"]\n",
    "\n",
    "myList = [{\"Total Items\": total_item_count_by_gender.Female, \n",
    "           \"Total Purchases\": total_spent_by_gender.Female,\n",
    "            \"Avg Spent per Person\": avg_spent_by_female, \n",
    "            \"Players\": gender_counts.Female},\n",
    "           {\"Total Items\": total_item_count_by_gender.Male, \n",
    "            \"Total Purchases\": total_spent_by_gender.Male,\n",
    "            \"Avg Spent per Person\": avg_spent_by_male, \n",
    "            \"Players\": gender_counts.Male},\n",
    "           {\"Total Items\": total_item_count_by_gender[\"Other / Non-Disclosed\"],\n",
    "            \"Total Purchases\": total_spent_by_gender[\"Other / Non-Disclosed\"], \n",
    "            \"Avg Spent per Person\": avg_spent_by_other,\n",
    "            \"Players\": gender_counts[\"Other / Non-Disclosed\"]}]\n",
    "\n",
    "gender_df = pd.DataFrame(myList)\n",
    "gender_df.rename(index={0:'Female', 1:'Male', 2:'Other'}, inplace=True)\n",
    "\n",
    "gender_df[\"Total Purchases\"] = gender_df[\"Total Purchases\"].map(\"${:.2f}\".format)\n",
    "gender_df[\"Avg Spent per Person\"] = gender_df[\"Avg Spent per Person\"].map(\"${:.2f}\".format)\n",
    "# Change column order\n",
    "gender_df = gender_df[['Players','Total Items', 'Total Purchases', 'Avg Spent per Person']]\n",
    "\n",
    "gender_df"
   ]
  },
  {
   "cell_type": "markdown",
   "metadata": {},
   "source": [
    "## Age Demographics"
   ]
  },
  {
   "cell_type": "markdown",
   "metadata": {},
   "source": [
    "* Establish bins for ages\n",
    "\n",
    "\n",
    "* Categorize the existing players using the age bins. Hint: use pd.cut()\n",
    "\n",
    "\n",
    "* Calculate the numbers and percentages by age group\n",
    "\n",
    "\n",
    "* Create a summary data frame to hold the results\n",
    "\n",
    "\n",
    "* Optional: round the percentage column to two decimal points\n",
    "\n",
    "\n",
    "* Display Age Demographics Table\n"
   ]
  },
  {
   "cell_type": "code",
   "execution_count": 15,
   "metadata": {},
   "outputs": [
    {
     "data": {
      "text/html": [
       "<div>\n",
       "<style scoped>\n",
       "    .dataframe tbody tr th:only-of-type {\n",
       "        vertical-align: middle;\n",
       "    }\n",
       "\n",
       "    .dataframe tbody tr th {\n",
       "        vertical-align: top;\n",
       "    }\n",
       "\n",
       "    .dataframe thead th {\n",
       "        text-align: right;\n",
       "    }\n",
       "</style>\n",
       "<table border=\"1\" class=\"dataframe\">\n",
       "  <thead>\n",
       "    <tr style=\"text-align: right;\">\n",
       "      <th></th>\n",
       "      <th>Players</th>\n",
       "      <th>Percentage</th>\n",
       "    </tr>\n",
       "  </thead>\n",
       "  <tbody>\n",
       "    <tr>\n",
       "      <th>&lt;10</th>\n",
       "      <td>17</td>\n",
       "      <td>2.95%</td>\n",
       "    </tr>\n",
       "    <tr>\n",
       "      <th>10-14</th>\n",
       "      <td>22</td>\n",
       "      <td>3.82%</td>\n",
       "    </tr>\n",
       "    <tr>\n",
       "      <th>15-19</th>\n",
       "      <td>107</td>\n",
       "      <td>18.58%</td>\n",
       "    </tr>\n",
       "    <tr>\n",
       "      <th>20-24</th>\n",
       "      <td>258</td>\n",
       "      <td>44.79%</td>\n",
       "    </tr>\n",
       "    <tr>\n",
       "      <th>25-29</th>\n",
       "      <td>77</td>\n",
       "      <td>13.37%</td>\n",
       "    </tr>\n",
       "    <tr>\n",
       "      <th>30-34</th>\n",
       "      <td>52</td>\n",
       "      <td>9.03%</td>\n",
       "    </tr>\n",
       "    <tr>\n",
       "      <th>35-39</th>\n",
       "      <td>31</td>\n",
       "      <td>5.38%</td>\n",
       "    </tr>\n",
       "    <tr>\n",
       "      <th>40+</th>\n",
       "      <td>12</td>\n",
       "      <td>2.08%</td>\n",
       "    </tr>\n",
       "  </tbody>\n",
       "</table>\n",
       "</div>"
      ],
      "text/plain": [
       "       Players Percentage\n",
       "<10         17      2.95%\n",
       "10-14       22      3.82%\n",
       "15-19      107     18.58%\n",
       "20-24      258     44.79%\n",
       "25-29       77     13.37%\n",
       "30-34       52      9.03%\n",
       "35-39       31      5.38%\n",
       "40+         12      2.08%"
      ]
     },
     "execution_count": 15,
     "metadata": {},
     "output_type": "execute_result"
    }
   ],
   "source": [
    "# Establish the bins for ages\n",
    "age_bins = [0, 9, 14, 19, 24, 29, 34, 39, 99999]\n",
    "group_names = ['<10', '10-14', '15-19', '20-24', '25-29', '30-34', '35-39', '40+']\n",
    "\n",
    "# Categorize the existing players using the age bins. Hint: use pd.cut()\n",
    "purchase_data_df['Age Ranges'] = pd.cut(purchase_data_df['Age'], age_bins, labels=group_names)\n",
    "\n",
    "# Calculate the numbers and percentages by age group\n",
    "groupedby_ages = purchase_data_df.groupby('Age Ranges')\n",
    "age_counts = groupedby_ages['SN'].nunique()   \n",
    "total_players = age_counts.sum()\n",
    "\n",
    "age_list = [{\"Players\": age_counts[\"<10\"], \"Percentage\": (age_counts[\"<10\"] * 100) / total_players},\n",
    "            {\"Players\": age_counts[\"10-14\"], \"Percentage\": (age_counts[\"10-14\"] * 100) / total_players},\n",
    "            {\"Players\": age_counts[\"15-19\"], \"Percentage\": (age_counts[\"15-19\"] * 100) / total_players},\n",
    "            {\"Players\": age_counts[\"20-24\"], \"Percentage\": (age_counts[\"20-24\"] * 100) / total_players},\n",
    "            {\"Players\": age_counts[\"25-29\"], \"Percentage\": (age_counts[\"25-29\"] * 100) / total_players},\n",
    "            {\"Players\": age_counts[\"30-34\"], \"Percentage\": (age_counts[\"30-34\"] * 100) / total_players},\n",
    "            {\"Players\": age_counts[\"35-39\"], \"Percentage\": (age_counts[\"35-39\"] * 100) / total_players},\n",
    "            {\"Players\": age_counts[\"40+\"], \"Percentage\": (age_counts[\"40+\"] * 100) / total_players}]\n",
    "\n",
    "summary_ages_df = pd.DataFrame(age_list)\n",
    "summary_ages_df.rename(index={0:'<10', 1:'10-14', 2:'15-19', 3:'20-24', 4:'25-29', 5:'30-34', 6:'35-39', 7:'40+'}, \n",
    "                       inplace=True)\n",
    "summary_ages_df['Percentage'] = summary_ages_df['Percentage'].map('{:.2f}%'.format)\n",
    "summary_ages_df = summary_ages_df[['Players', 'Percentage']]\n",
    "\n",
    "summary_ages_df\n",
    "\n"
   ]
  },
  {
   "cell_type": "markdown",
   "metadata": {},
   "source": [
    "## Purchasing Analysis (Age)"
   ]
  },
  {
   "cell_type": "markdown",
   "metadata": {},
   "source": [
    "* Bin the purchase_data data frame by age\n",
    "\n",
    "\n",
    "* Run basic calculations to obtain purchase count, avg. purchase price, avg. purchase total per person etc. in the table below\n",
    "\n",
    "\n",
    "* Create a summary data frame to hold the results\n",
    "\n",
    "\n",
    "* Optional: give the displayed data cleaner formatting\n",
    "\n",
    "\n",
    "* Display the summary data frame"
   ]
  },
  {
   "cell_type": "code",
   "execution_count": 16,
   "metadata": {},
   "outputs": [
    {
     "data": {
      "text/html": [
       "<div>\n",
       "<style scoped>\n",
       "    .dataframe tbody tr th:only-of-type {\n",
       "        vertical-align: middle;\n",
       "    }\n",
       "\n",
       "    .dataframe tbody tr th {\n",
       "        vertical-align: top;\n",
       "    }\n",
       "\n",
       "    .dataframe thead th {\n",
       "        text-align: right;\n",
       "    }\n",
       "</style>\n",
       "<table border=\"1\" class=\"dataframe\">\n",
       "  <thead>\n",
       "    <tr style=\"text-align: right;\">\n",
       "      <th></th>\n",
       "      <th>Players</th>\n",
       "      <th>Purchase Count</th>\n",
       "      <th>Total Purchases</th>\n",
       "      <th>Avg Spent per Player</th>\n",
       "    </tr>\n",
       "  </thead>\n",
       "  <tbody>\n",
       "    <tr>\n",
       "      <th>&lt;10</th>\n",
       "      <td>17</td>\n",
       "      <td>23</td>\n",
       "      <td>$77.13</td>\n",
       "      <td>$4.54</td>\n",
       "    </tr>\n",
       "    <tr>\n",
       "      <th>10-14</th>\n",
       "      <td>22</td>\n",
       "      <td>28</td>\n",
       "      <td>$82.78</td>\n",
       "      <td>$3.76</td>\n",
       "    </tr>\n",
       "    <tr>\n",
       "      <th>15-19</th>\n",
       "      <td>107</td>\n",
       "      <td>136</td>\n",
       "      <td>$412.89</td>\n",
       "      <td>$3.86</td>\n",
       "    </tr>\n",
       "    <tr>\n",
       "      <th>20-24</th>\n",
       "      <td>258</td>\n",
       "      <td>365</td>\n",
       "      <td>$1114.06</td>\n",
       "      <td>$4.32</td>\n",
       "    </tr>\n",
       "    <tr>\n",
       "      <th>25-29</th>\n",
       "      <td>77</td>\n",
       "      <td>101</td>\n",
       "      <td>$293.00</td>\n",
       "      <td>$3.81</td>\n",
       "    </tr>\n",
       "    <tr>\n",
       "      <th>30-34</th>\n",
       "      <td>52</td>\n",
       "      <td>73</td>\n",
       "      <td>$214.00</td>\n",
       "      <td>$4.12</td>\n",
       "    </tr>\n",
       "    <tr>\n",
       "      <th>35-39</th>\n",
       "      <td>31</td>\n",
       "      <td>41</td>\n",
       "      <td>$147.67</td>\n",
       "      <td>$4.76</td>\n",
       "    </tr>\n",
       "    <tr>\n",
       "      <th>40+</th>\n",
       "      <td>12</td>\n",
       "      <td>13</td>\n",
       "      <td>$38.24</td>\n",
       "      <td>$3.19</td>\n",
       "    </tr>\n",
       "  </tbody>\n",
       "</table>\n",
       "</div>"
      ],
      "text/plain": [
       "       Players  Purchase Count Total Purchases Avg Spent per Player\n",
       "<10         17              23          $77.13                $4.54\n",
       "10-14       22              28          $82.78                $3.76\n",
       "15-19      107             136         $412.89                $3.86\n",
       "20-24      258             365        $1114.06                $4.32\n",
       "25-29       77             101         $293.00                $3.81\n",
       "30-34       52              73         $214.00                $4.12\n",
       "35-39       31              41         $147.67                $4.76\n",
       "40+         12              13          $38.24                $3.19"
      ]
     },
     "execution_count": 16,
     "metadata": {},
     "output_type": "execute_result"
    }
   ],
   "source": [
    "# Can use the previously determined DataFrame\n",
    "groupedby_age_range = purchase_data_df.groupby(\"Age Ranges\")\n",
    "total_item_count_by_age = groupedby_age_range['Item ID'].count()\n",
    "total_spent_by_age = groupedby_age_range['Price'].sum()\n",
    "max_cost_by_age = groupedby_age_range['Price'].max()\n",
    "min_cost_by_age = groupedby_age_range['Price'].min()\n",
    "avg_cost_by_age = groupedby_age_range['Price'].mean()\n",
    "\n",
    "# age_counts from In[7]\n",
    "age_purchase_list = [{\"Players\": age_counts[\"<10\"], \n",
    "                      \"Purchase Count\": total_item_count_by_age[\"<10\"],\n",
    "                      \"Total Purchases\": total_spent_by_age[\"<10\"],\n",
    "                      \"Avg Spent per Player\": total_spent_by_age[\"<10\"] / age_counts[\"<10\"]},\n",
    "                     {\"Players\": age_counts[\"10-14\"], \n",
    "                      \"Purchase Count\": total_item_count_by_age[\"10-14\"],\n",
    "                      \"Total Purchases\": total_spent_by_age[\"10-14\"], \n",
    "                      \"Avg Spent per Player\": total_spent_by_age[\"10-14\"] / age_counts[\"10-14\"]},\n",
    "                     {\"Players\": age_counts[\"15-19\"], \n",
    "                      \"Purchase Count\": total_item_count_by_age[\"15-19\"],\n",
    "                      \"Total Purchases\": total_spent_by_age[\"15-19\"], \n",
    "                      \"Avg Spent per Player\": total_spent_by_age[\"15-19\"] / age_counts[\"15-19\"]},\n",
    "                     {\"Players\": age_counts[\"20-24\"],\n",
    "                      \"Purchase Count\": total_item_count_by_age[\"20-24\"],\n",
    "                      \"Total Purchases\": total_spent_by_age[\"20-24\"], \n",
    "                      \"Avg Spent per Player\": total_spent_by_age[\"20-24\"] / age_counts[\"20-24\"]},\n",
    "                     {\"Players\": age_counts[\"25-29\"], \n",
    "                      \"Purchase Count\": total_item_count_by_age[\"25-29\"],\n",
    "                      \"Total Purchases\": total_spent_by_age[\"25-29\"], \n",
    "                      \"Avg Spent per Player\": total_spent_by_age[\"25-29\"] / age_counts[\"25-29\"]},\n",
    "                     {\"Players\": age_counts[\"30-34\"], \n",
    "                      \"Purchase Count\": total_item_count_by_age[\"30-34\"],\n",
    "                      \"Total Purchases\": total_spent_by_age[\"30-34\"], \n",
    "                      \"Avg Spent per Player\": total_spent_by_age[\"30-34\"] / age_counts[\"30-34\"]},\n",
    "                     {\"Players\": age_counts[\"35-39\"], \n",
    "                      \"Purchase Count\": total_item_count_by_age[\"35-39\"],\n",
    "                      \"Total Purchases\": total_spent_by_age[\"35-39\"], \n",
    "                      \"Avg Spent per Player\": total_spent_by_age[\"35-39\"] / age_counts[\"35-39\"]},\n",
    "                     {\"Players\": age_counts[\"40+\"], \n",
    "                      \"Purchase Count\": total_item_count_by_age[\"40+\"],\n",
    "                      \"Total Purchases\": total_spent_by_age[\"40+\"], \n",
    "                      \"Avg Spent per Player\": total_spent_by_age[\"40+\"] / age_counts[\"40+\"]}]\n",
    "\n",
    "summary_purchase_by_age_df = pd.DataFrame(age_purchase_list)\n",
    "\n",
    "summary_purchase_by_age_df[\"Total Purchases\"] = summary_purchase_by_age_df[\"Total Purchases\"].map(\"${:.2f}\".format)\n",
    "summary_purchase_by_age_df[\"Avg Spent per Player\"] = summary_purchase_by_age_df[\"Avg Spent per Player\"].map(\"${:.2f}\".format)\n",
    "\n",
    "summary_purchase_by_age_df.rename(index={0:'<10', 1:'10-14', 2:'15-19', 3:'20-24', 4:'25-29', 5:'30-34',\n",
    "                                          6:'35-39', 7:'40+'}, inplace=True)\n",
    "\n",
    "summary_purchase_by_age_df = summary_purchase_by_age_df[['Players','Purchase Count', 'Total Purchases',\n",
    "                                                           'Avg Spent per Player']]\n",
    "\n",
    "summary_purchase_by_age_df\n"
   ]
  },
  {
   "cell_type": "markdown",
   "metadata": {},
   "source": [
    "## Top Spenders"
   ]
  },
  {
   "cell_type": "markdown",
   "metadata": {},
   "source": [
    "* Run basic calculations to obtain the results in the table below\n",
    "\n",
    "\n",
    "* Create a summary data frame to hold the results\n",
    "\n",
    "\n",
    "* Sort the total purchase value column in descending order\n",
    "\n",
    "\n",
    "* Optional: give the displayed data cleaner formatting\n",
    "\n",
    "\n",
    "* Display a preview of the summary data frame\n",
    "\n"
   ]
  },
  {
   "cell_type": "code",
   "execution_count": 17,
   "metadata": {},
   "outputs": [
    {
     "data": {
      "text/html": [
       "<div>\n",
       "<style scoped>\n",
       "    .dataframe tbody tr th:only-of-type {\n",
       "        vertical-align: middle;\n",
       "    }\n",
       "\n",
       "    .dataframe tbody tr th {\n",
       "        vertical-align: top;\n",
       "    }\n",
       "\n",
       "    .dataframe thead th {\n",
       "        text-align: right;\n",
       "    }\n",
       "</style>\n",
       "<table border=\"1\" class=\"dataframe\">\n",
       "  <thead>\n",
       "    <tr style=\"text-align: right;\">\n",
       "      <th></th>\n",
       "      <th>Total Purchases</th>\n",
       "      <th>Item Count</th>\n",
       "      <th>Avg Spent</th>\n",
       "    </tr>\n",
       "    <tr>\n",
       "      <th>SN</th>\n",
       "      <th></th>\n",
       "      <th></th>\n",
       "      <th></th>\n",
       "    </tr>\n",
       "  </thead>\n",
       "  <tbody>\n",
       "    <tr>\n",
       "      <th>Lisosia93</th>\n",
       "      <td>$18.96</td>\n",
       "      <td>5</td>\n",
       "      <td>$3.79</td>\n",
       "    </tr>\n",
       "    <tr>\n",
       "      <th>Idastidru52</th>\n",
       "      <td>$15.45</td>\n",
       "      <td>4</td>\n",
       "      <td>$3.86</td>\n",
       "    </tr>\n",
       "    <tr>\n",
       "      <th>Chamjask73</th>\n",
       "      <td>$13.83</td>\n",
       "      <td>3</td>\n",
       "      <td>$4.61</td>\n",
       "    </tr>\n",
       "    <tr>\n",
       "      <th>Iral74</th>\n",
       "      <td>$13.62</td>\n",
       "      <td>4</td>\n",
       "      <td>$3.40</td>\n",
       "    </tr>\n",
       "    <tr>\n",
       "      <th>Iskadarya95</th>\n",
       "      <td>$13.10</td>\n",
       "      <td>3</td>\n",
       "      <td>$4.37</td>\n",
       "    </tr>\n",
       "  </tbody>\n",
       "</table>\n",
       "</div>"
      ],
      "text/plain": [
       "            Total Purchases  Item Count Avg Spent\n",
       "SN                                               \n",
       "Lisosia93            $18.96           5     $3.79\n",
       "Idastidru52          $15.45           4     $3.86\n",
       "Chamjask73           $13.83           3     $4.61\n",
       "Iral74               $13.62           4     $3.40\n",
       "Iskadarya95          $13.10           3     $4.37"
      ]
     },
     "execution_count": 17,
     "metadata": {},
     "output_type": "execute_result"
    }
   ],
   "source": [
    "groupedby_player = purchase_data_df.groupby(['SN'])\n",
    "total_spent_player = groupedby_player['Price'].sum()\n",
    "items_per_player = groupedby_player['Price'].count()\n",
    "\n",
    "player_list_df = pd.DataFrame(total_spent_player)\n",
    "player_list_df['Item Count'] = items_per_player\n",
    "player_list_df['Avg Spent'] = total_spent_player / items_per_player\n",
    "player_list_df.columns = [\"Total Purchases\", \"Item Count\", \"Avg Spent\"]\n",
    "player_list_df\n",
    "\n",
    "player_list_df[\"Avg Spent\"] = player_list_df[\"Avg Spent\"].map(\"${:.2f}\".format)\n",
    "player_list_df.sort_values(by='Total Purchases', ascending=False, inplace=True)\n",
    "player_list_df[\"Total Purchases\"] = player_list_df[\"Total Purchases\"].map(\"${:.2f}\".format)\n",
    "\n",
    "player_list_df.head()"
   ]
  },
  {
   "cell_type": "markdown",
   "metadata": {},
   "source": [
    "## Most Popular Items"
   ]
  },
  {
   "cell_type": "markdown",
   "metadata": {},
   "source": [
    "* Retrieve the Item ID, Item Name, and Item Price columns\n",
    "\n",
    "\n",
    "* Group by Item ID and Item Name. Perform calculations to obtain purchase count, average item price, and total purchase value\n",
    "\n",
    "\n",
    "* Create a summary data frame to hold the results\n",
    "\n",
    "\n",
    "* Sort the purchase count column in descending order\n",
    "\n",
    "\n",
    "* Optional: give the displayed data cleaner formatting\n",
    "\n",
    "\n",
    "* Display a preview of the summary data frame\n",
    "\n"
   ]
  },
  {
   "cell_type": "code",
   "execution_count": 25,
   "metadata": {},
   "outputs": [
    {
     "data": {
      "text/html": [
       "<div>\n",
       "<style scoped>\n",
       "    .dataframe tbody tr th:only-of-type {\n",
       "        vertical-align: middle;\n",
       "    }\n",
       "\n",
       "    .dataframe tbody tr th {\n",
       "        vertical-align: top;\n",
       "    }\n",
       "\n",
       "    .dataframe thead th {\n",
       "        text-align: right;\n",
       "    }\n",
       "</style>\n",
       "<table border=\"1\" class=\"dataframe\">\n",
       "  <thead>\n",
       "    <tr style=\"text-align: right;\">\n",
       "      <th></th>\n",
       "      <th></th>\n",
       "      <th>Purchase Count</th>\n",
       "      <th>Total Purchase Value</th>\n",
       "      <th>Price</th>\n",
       "    </tr>\n",
       "    <tr>\n",
       "      <th>Item ID</th>\n",
       "      <th>Item Name</th>\n",
       "      <th></th>\n",
       "      <th></th>\n",
       "      <th></th>\n",
       "    </tr>\n",
       "  </thead>\n",
       "  <tbody>\n",
       "    <tr>\n",
       "      <th>92</th>\n",
       "      <th>Final Critic</th>\n",
       "      <td>13</td>\n",
       "      <td>$59.99</td>\n",
       "      <td>$4.19</td>\n",
       "    </tr>\n",
       "    <tr>\n",
       "      <th>178</th>\n",
       "      <th>Oathbreaker, Last Hope of the Breaking Storm</th>\n",
       "      <td>12</td>\n",
       "      <td>$50.76</td>\n",
       "      <td>$4.23</td>\n",
       "    </tr>\n",
       "    <tr>\n",
       "      <th>145</th>\n",
       "      <th>Fiery Glass Crusader</th>\n",
       "      <td>9</td>\n",
       "      <td>$41.22</td>\n",
       "      <td>$4.58</td>\n",
       "    </tr>\n",
       "    <tr>\n",
       "      <th>132</th>\n",
       "      <th>Persuasion</th>\n",
       "      <td>9</td>\n",
       "      <td>$28.99</td>\n",
       "      <td>$3.33</td>\n",
       "    </tr>\n",
       "    <tr>\n",
       "      <th>108</th>\n",
       "      <th>Extraction, Quickblade Of Trembling Hands</th>\n",
       "      <td>9</td>\n",
       "      <td>$31.77</td>\n",
       "      <td>$3.53</td>\n",
       "    </tr>\n",
       "  </tbody>\n",
       "</table>\n",
       "</div>"
      ],
      "text/plain": [
       "                                                      Purchase Count  \\\n",
       "Item ID Item Name                                                      \n",
       "92      Final Critic                                              13   \n",
       "178     Oathbreaker, Last Hope of the Breaking Storm              12   \n",
       "145     Fiery Glass Crusader                                       9   \n",
       "132     Persuasion                                                 9   \n",
       "108     Extraction, Quickblade Of Trembling Hands                  9   \n",
       "\n",
       "                                                     Total Purchase Value  \\\n",
       "Item ID Item Name                                                           \n",
       "92      Final Critic                                               $59.99   \n",
       "178     Oathbreaker, Last Hope of the Breaking Storm               $50.76   \n",
       "145     Fiery Glass Crusader                                       $41.22   \n",
       "132     Persuasion                                                 $28.99   \n",
       "108     Extraction, Quickblade Of Trembling Hands                  $31.77   \n",
       "\n",
       "                                                      Price  \n",
       "Item ID Item Name                                            \n",
       "92      Final Critic                                  $4.19  \n",
       "178     Oathbreaker, Last Hope of the Breaking Storm  $4.23  \n",
       "145     Fiery Glass Crusader                          $4.58  \n",
       "132     Persuasion                                    $3.33  \n",
       "108     Extraction, Quickblade Of Trembling Hands     $3.53  "
      ]
     },
     "execution_count": 25,
     "metadata": {},
     "output_type": "execute_result"
    }
   ],
   "source": [
    "popular_item_df = purchase_data_df.loc[:, 'Item ID':'Price'].copy()\n",
    "groupedby_popular = popular_item_df.groupby(['Item ID', 'Item Name'])\n",
    "\n",
    "total_purchases = groupedby_popular['Price'].sum()\n",
    "num_items_purchased = groupedby_popular['Item ID'].count()\n",
    "\n",
    "#Create a summary data frame to hold the results\n",
    "popular_items_df = pd.DataFrame(num_items_purchased)\n",
    "popular_items_df['Total Purchase Value'] = total_purchases\n",
    "popular_items_df.columns = [\"Purchase Count\", \"Total Purchase Value\"]\n",
    "popular_items_df = popular_items_df.sort_values(by='Item ID')\n",
    "\n",
    "\n",
    "prices_df = purchase_data_df[['Item ID', 'Item Name', 'Price']]\n",
    "prices_nodup_df = prices_df.drop_duplicates(['Item ID'], keep = 'last')\n",
    "prices_post_df = prices_nodup_df.sort_values(by=['Item ID'])\n",
    "prices_post_df.set_index(['Item ID', 'Item Name'], inplace=True)\n",
    "\n",
    "popular_items_df = popular_items_df.join(prices_post_df)\n",
    "\n",
    "\n",
    "profitable_items_df = popular_items_df\n",
    "\n",
    "popular_items_df = popular_items_df.sort_values(by='Purchase Count', ascending=False)\n",
    "popular_items_df[\"Price\"] = popular_items_df[\"Price\"].map(\"${:.2f}\".format)\n",
    "popular_items_df[\"Total Purchase Value\"] = popular_items_df[\"Total Purchase Value\"].map(\"${:.2f}\".format)\n",
    "\n",
    "popular_items_df.head()"
   ]
  },
  {
   "cell_type": "markdown",
   "metadata": {},
   "source": [
    "## Most Profitable Items"
   ]
  },
  {
   "cell_type": "markdown",
   "metadata": {},
   "source": [
    "* Sort the above table by total purchase value in descending order\n",
    "\n",
    "\n",
    "* Optional: give the displayed data cleaner formatting\n",
    "\n",
    "\n",
    "* Display a preview of the data frame\n",
    "\n"
   ]
  },
  {
   "cell_type": "code",
   "execution_count": 26,
   "metadata": {
    "scrolled": true
   },
   "outputs": [
    {
     "data": {
      "text/html": [
       "<div>\n",
       "<style scoped>\n",
       "    .dataframe tbody tr th:only-of-type {\n",
       "        vertical-align: middle;\n",
       "    }\n",
       "\n",
       "    .dataframe tbody tr th {\n",
       "        vertical-align: top;\n",
       "    }\n",
       "\n",
       "    .dataframe thead th {\n",
       "        text-align: right;\n",
       "    }\n",
       "</style>\n",
       "<table border=\"1\" class=\"dataframe\">\n",
       "  <thead>\n",
       "    <tr style=\"text-align: right;\">\n",
       "      <th></th>\n",
       "      <th></th>\n",
       "      <th>Purchase Count</th>\n",
       "      <th>Total Purchase Value</th>\n",
       "      <th>Price</th>\n",
       "    </tr>\n",
       "    <tr>\n",
       "      <th>Item ID</th>\n",
       "      <th>Item Name</th>\n",
       "      <th></th>\n",
       "      <th></th>\n",
       "      <th></th>\n",
       "    </tr>\n",
       "  </thead>\n",
       "  <tbody>\n",
       "    <tr>\n",
       "      <th>92</th>\n",
       "      <th>Final Critic</th>\n",
       "      <td>13</td>\n",
       "      <td>$59.99</td>\n",
       "      <td>$4.19</td>\n",
       "    </tr>\n",
       "    <tr>\n",
       "      <th>178</th>\n",
       "      <th>Oathbreaker, Last Hope of the Breaking Storm</th>\n",
       "      <td>12</td>\n",
       "      <td>$50.76</td>\n",
       "      <td>$4.23</td>\n",
       "    </tr>\n",
       "    <tr>\n",
       "      <th>82</th>\n",
       "      <th>Nirvana</th>\n",
       "      <td>9</td>\n",
       "      <td>$44.10</td>\n",
       "      <td>$4.90</td>\n",
       "    </tr>\n",
       "    <tr>\n",
       "      <th>145</th>\n",
       "      <th>Fiery Glass Crusader</th>\n",
       "      <td>9</td>\n",
       "      <td>$41.22</td>\n",
       "      <td>$4.58</td>\n",
       "    </tr>\n",
       "    <tr>\n",
       "      <th>103</th>\n",
       "      <th>Singed Scalpel</th>\n",
       "      <td>8</td>\n",
       "      <td>$34.80</td>\n",
       "      <td>$4.35</td>\n",
       "    </tr>\n",
       "  </tbody>\n",
       "</table>\n",
       "</div>"
      ],
      "text/plain": [
       "                                                      Purchase Count  \\\n",
       "Item ID Item Name                                                      \n",
       "92      Final Critic                                              13   \n",
       "178     Oathbreaker, Last Hope of the Breaking Storm              12   \n",
       "82      Nirvana                                                    9   \n",
       "145     Fiery Glass Crusader                                       9   \n",
       "103     Singed Scalpel                                             8   \n",
       "\n",
       "                                                     Total Purchase Value  \\\n",
       "Item ID Item Name                                                           \n",
       "92      Final Critic                                               $59.99   \n",
       "178     Oathbreaker, Last Hope of the Breaking Storm               $50.76   \n",
       "82      Nirvana                                                    $44.10   \n",
       "145     Fiery Glass Crusader                                       $41.22   \n",
       "103     Singed Scalpel                                             $34.80   \n",
       "\n",
       "                                                      Price  \n",
       "Item ID Item Name                                            \n",
       "92      Final Critic                                  $4.19  \n",
       "178     Oathbreaker, Last Hope of the Breaking Storm  $4.23  \n",
       "82      Nirvana                                       $4.90  \n",
       "145     Fiery Glass Crusader                          $4.58  \n",
       "103     Singed Scalpel                                $4.35  "
      ]
     },
     "execution_count": 26,
     "metadata": {},
     "output_type": "execute_result"
    }
   ],
   "source": [
    "profitable_items_df = profitable_items_df.sort_values(by='Total Purchase Value', ascending=False)\n",
    "profitable_items_df[\"Price\"] = profitable_items_df[\"Price\"].map(\"${:.2f}\".format)\n",
    "profitable_items_df[\"Total Purchase Value\"] = profitable_items_df[\"Total Purchase Value\"].map(\"${:.2f}\".format)\n",
    "\n",
    "profitable_items_df.head()"
   ]
  },
  {
   "cell_type": "code",
   "execution_count": null,
   "metadata": {},
   "outputs": [],
   "source": []
  }
 ],
 "metadata": {
  "anaconda-cloud": {},
  "kernel_info": {
   "name": "python3"
  },
  "kernelspec": {
   "display_name": "Python [conda env:PythonData]",
   "language": "python",
   "name": "conda-env-PythonData-py"
  },
  "language_info": {
   "codemirror_mode": {
    "name": "ipython",
    "version": 3
   },
   "file_extension": ".py",
   "mimetype": "text/x-python",
   "name": "python",
   "nbconvert_exporter": "python",
   "pygments_lexer": "ipython3",
   "version": "3.6.10"
  },
  "latex_envs": {
   "LaTeX_envs_menu_present": true,
   "autoclose": false,
   "autocomplete": true,
   "bibliofile": "biblio.bib",
   "cite_by": "apalike",
   "current_citInitial": 1,
   "eqLabelWithNumbers": true,
   "eqNumInitial": 1,
   "hotkeys": {
    "equation": "Ctrl-E",
    "itemize": "Ctrl-I"
   },
   "labels_anchors": false,
   "latex_user_defs": false,
   "report_style_numbering": false,
   "user_envs_cfg": false
  },
  "nteract": {
   "version": "0.2.0"
  }
 },
 "nbformat": 4,
 "nbformat_minor": 2
}
