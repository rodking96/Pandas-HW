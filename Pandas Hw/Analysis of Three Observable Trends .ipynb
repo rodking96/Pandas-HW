{
 "cells": [
  {
   "cell_type": "code",
   "execution_count": null,
   "metadata": {},
   "outputs": [],
   "source": [
    "# (1) Based on the Data, the majority are male(83.6%) and minority being female (14.5%). \n",
    "# (2) Based on the Data, the highest on age demogrphics is between 20-24 (258 players(44.79%)) and lowest \n",
    "# being 40+ (12 players(2.08%)).\n",
    "# (3) Based on the Data, Final Critic being the most popular item(Purschase count(13)) \n",
    "# and (total purchase value($59.99))"
   ]
  }
 ],
 "metadata": {
  "kernelspec": {
   "display_name": "Python [conda env:PythonData]",
   "language": "python",
   "name": "conda-env-PythonData-py"
  },
  "language_info": {
   "codemirror_mode": {
    "name": "ipython",
    "version": 3
   },
   "file_extension": ".py",
   "mimetype": "text/x-python",
   "name": "python",
   "nbconvert_exporter": "python",
   "pygments_lexer": "ipython3",
   "version": "3.6.10"
  }
 },
 "nbformat": 4,
 "nbformat_minor": 4
}
